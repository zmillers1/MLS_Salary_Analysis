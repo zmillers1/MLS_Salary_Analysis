{
 "cells": [
  {
   "cell_type": "code",
   "execution_count": 3,
   "metadata": {},
   "outputs": [
    {
     "name": "stdout",
     "output_type": "stream",
     "text": [
      "2.0.0\n"
     ]
    },
    {
     "data": {
      "text/html": [
       "<script>requirejs.config({paths: { 'plotly': ['https://cdn.plot.ly/plotly-latest.min']},});if(!window.Plotly) {{require(['plotly'],function(plotly) {window.Plotly=plotly;});}}</script>"
      ],
      "text/plain": [
       "<IPython.core.display.HTML object>"
      ]
     },
     "metadata": {},
     "output_type": "display_data"
    }
   ],
   "source": [
    "#import\n",
    "\n",
    "%matplotlib inline\n",
    "import numpy as np\n",
    "import pandas as pd\n",
    "import matplotlib.pyplot as plt\n",
    "from plotly import __version__\n",
    "from plotly.offline import download_plotlyjs, init_notebook_mode, plot, iplot\n",
    "import plotly.plotly as py\n",
    "import plotly.graph_objs as go\n",
    "print (__version__)\n",
    "init_notebook_mode(connected=True)\n"
   ]
  },
  {
   "cell_type": "code",
   "execution_count": 4,
   "metadata": {},
   "outputs": [
    {
     "name": "stdout",
     "output_type": "stream",
     "text": [
      "182938285.91\n",
      "200901764.26\n"
     ]
    }
   ],
   "source": [
    "mls_2017 = pd.read_csv('MLS_Player_Salaries_2017.csv')\n",
    "\n",
    "mls_2017 = pd.DataFrame(mls_2017)\n",
    "\n",
    "# fix base salary to a float point\n",
    "fix_base = mls_2017['Base Salary'].str.replace('$',\"\")\n",
    "fix_base = fix_base.str.replace(',','')\n",
    "fix_base = fix_base.astype(float)\n",
    "\n",
    "# fix guaranteed compensation to a float point\n",
    "fix_comp = mls_2017['Guaranteed Compensation'].str.replace('$',\"\")\n",
    "fix_comp = fix_comp.str.replace(',','')\n",
    "fix_comp = fix_comp.astype(float)\n",
    "\n",
    "#check to see if above works by taking sum of column\n",
    "Total_base = sum(fix_base)\n",
    "print(Total_base)\n",
    "Total_comp = sum(fix_comp)\n",
    "print(Total_comp)\n",
    "\n",
    "# Change Season to datetime Year\n",
    "season = mls_2017['Season'].astype(str)\n",
    "season = pd.to_datetime(season)\n",
    "season = season.dt.year\n"
   ]
  },
  {
   "cell_type": "code",
   "execution_count": 9,
   "metadata": {},
   "outputs": [
    {
     "data": {
      "text/html": [
       "<div>\n",
       "<table border=\"1\" class=\"dataframe\">\n",
       "  <thead>\n",
       "    <tr style=\"text-align: right;\">\n",
       "      <th></th>\n",
       "      <th>Club</th>\n",
       "      <th>Guaranteed Compensation</th>\n",
       "    </tr>\n",
       "  </thead>\n",
       "  <tbody>\n",
       "    <tr>\n",
       "      <th>9</th>\n",
       "      <td>LAFC</td>\n",
       "      <td>118008.00</td>\n",
       "    </tr>\n",
       "    <tr>\n",
       "      <th>6</th>\n",
       "      <td>HOU</td>\n",
       "      <td>5025066.65</td>\n",
       "    </tr>\n",
       "    <tr>\n",
       "      <th>11</th>\n",
       "      <td>MTL</td>\n",
       "      <td>5215855.89</td>\n",
       "    </tr>\n",
       "    <tr>\n",
       "      <th>5</th>\n",
       "      <td>DC</td>\n",
       "      <td>5272447.94</td>\n",
       "    </tr>\n",
       "    <tr>\n",
       "      <th>10</th>\n",
       "      <td>MNUFC</td>\n",
       "      <td>5322864.55</td>\n",
       "    </tr>\n",
       "    <tr>\n",
       "      <th>12</th>\n",
       "      <td>NE</td>\n",
       "      <td>5800118.33</td>\n",
       "    </tr>\n",
       "    <tr>\n",
       "      <th>4</th>\n",
       "      <td>DAL</td>\n",
       "      <td>6510760.94</td>\n",
       "    </tr>\n",
       "    <tr>\n",
       "      <th>7</th>\n",
       "      <td>KC</td>\n",
       "      <td>6730358.78</td>\n",
       "    </tr>\n",
       "    <tr>\n",
       "      <th>2</th>\n",
       "      <td>CLB</td>\n",
       "      <td>6747544.99</td>\n",
       "    </tr>\n",
       "    <tr>\n",
       "      <th>14</th>\n",
       "      <td>NYRB</td>\n",
       "      <td>6895186.17</td>\n",
       "    </tr>\n",
       "    <tr>\n",
       "      <th>20</th>\n",
       "      <td>SJ</td>\n",
       "      <td>6959287.11</td>\n",
       "    </tr>\n",
       "    <tr>\n",
       "      <th>16</th>\n",
       "      <td>PHI</td>\n",
       "      <td>7117010.10</td>\n",
       "    </tr>\n",
       "    <tr>\n",
       "      <th>18</th>\n",
       "      <td>RSL</td>\n",
       "      <td>7734355.44</td>\n",
       "    </tr>\n",
       "    <tr>\n",
       "      <th>3</th>\n",
       "      <td>COL</td>\n",
       "      <td>8040619.75</td>\n",
       "    </tr>\n",
       "    <tr>\n",
       "      <th>22</th>\n",
       "      <td>VAN</td>\n",
       "      <td>8079371.07</td>\n",
       "    </tr>\n",
       "    <tr>\n",
       "      <th>0</th>\n",
       "      <td>ATL</td>\n",
       "      <td>8930754.26</td>\n",
       "    </tr>\n",
       "    <tr>\n",
       "      <th>19</th>\n",
       "      <td>SEA</td>\n",
       "      <td>10372300.48</td>\n",
       "    </tr>\n",
       "    <tr>\n",
       "      <th>17</th>\n",
       "      <td>POR</td>\n",
       "      <td>10824144.54</td>\n",
       "    </tr>\n",
       "    <tr>\n",
       "      <th>8</th>\n",
       "      <td>LA</td>\n",
       "      <td>12117892.11</td>\n",
       "    </tr>\n",
       "    <tr>\n",
       "      <th>1</th>\n",
       "      <td>CHI</td>\n",
       "      <td>12952278.17</td>\n",
       "    </tr>\n",
       "    <tr>\n",
       "      <th>15</th>\n",
       "      <td>ORL</td>\n",
       "      <td>13219199.70</td>\n",
       "    </tr>\n",
       "    <tr>\n",
       "      <th>13</th>\n",
       "      <td>NYCFC</td>\n",
       "      <td>17930365.69</td>\n",
       "    </tr>\n",
       "    <tr>\n",
       "      <th>21</th>\n",
       "      <td>TOR</td>\n",
       "      <td>22478565.27</td>\n",
       "    </tr>\n",
       "  </tbody>\n",
       "</table>\n",
       "</div>"
      ],
      "text/plain": [
       "     Club  Guaranteed Compensation\n",
       "9    LAFC                118008.00\n",
       "6     HOU               5025066.65\n",
       "11    MTL               5215855.89\n",
       "5      DC               5272447.94\n",
       "10  MNUFC               5322864.55\n",
       "12     NE               5800118.33\n",
       "4     DAL               6510760.94\n",
       "7      KC               6730358.78\n",
       "2     CLB               6747544.99\n",
       "14   NYRB               6895186.17\n",
       "20     SJ               6959287.11\n",
       "16    PHI               7117010.10\n",
       "18    RSL               7734355.44\n",
       "3     COL               8040619.75\n",
       "22    VAN               8079371.07\n",
       "0     ATL               8930754.26\n",
       "19    SEA              10372300.48\n",
       "17    POR              10824144.54\n",
       "8      LA              12117892.11\n",
       "1     CHI              12952278.17\n",
       "15    ORL              13219199.70\n",
       "13  NYCFC              17930365.69\n",
       "21    TOR              22478565.27"
      ]
     },
     "execution_count": 9,
     "metadata": {},
     "output_type": "execute_result"
    }
   ],
   "source": [
    "#Preparing guaranteed compensation table grouped by club\n",
    "\n",
    "mls_2017['Base Salary'] = fix_base\n",
    "mls_2017['Guaranteed Compensation'] = fix_comp\n",
    "mls_2017['Season'] = season\n",
    "mls_2017\n",
    "\n",
    "comp = mls_2017[['Club','Guaranteed Compensation']].groupby('Club').sum().reset_index()\n",
    "comp = comp.sort_values(by='Guaranteed Compensation', ascending=True)\n",
    "comp"
   ]
  },
  {
   "cell_type": "code",
   "execution_count": null,
   "metadata": {},
   "outputs": [],
   "source": [
    "#plotly test\n",
    "trace = go.Bar(x=[1,2],y=[1,2])\n",
    "data = [trace]\n",
    "py.iplot(data)"
   ]
  },
  {
   "cell_type": "code",
   "execution_count": 11,
   "metadata": {
    "scrolled": true
   },
   "outputs": [
    {
     "data": {
      "text/html": [
       "<iframe id=\"igraph\" scrolling=\"no\" style=\"border:none;\" seamless=\"seamless\" src=\"https://plot.ly/~zmillers1/36.embed\" height=\"525px\" width=\"100%\"></iframe>"
      ],
      "text/plain": [
       "<plotly.tools.PlotlyDisplay object>"
      ]
     },
     "execution_count": 11,
     "metadata": {},
     "output_type": "execute_result"
    }
   ],
   "source": [
    "# horizontal bar graph\n",
    "trace = go.Bar(x=comp['Guaranteed Compensation'],\n",
    "               y=comp['Club'],\n",
    "              orientation='h'\n",
    "              )\n",
    "data = [trace]\n",
    "py.iplot(data)"
   ]
  },
  {
   "cell_type": "code",
   "execution_count": null,
   "metadata": {
    "collapsed": true
   },
   "outputs": [],
   "source": []
  }
 ],
 "metadata": {
  "anaconda-cloud": {},
  "kernelspec": {
   "display_name": "Python [conda root]",
   "language": "python",
   "name": "conda-root-py"
  },
  "language_info": {
   "codemirror_mode": {
    "name": "ipython",
    "version": 3
   },
   "file_extension": ".py",
   "mimetype": "text/x-python",
   "name": "python",
   "nbconvert_exporter": "python",
   "pygments_lexer": "ipython3",
   "version": "3.5.2"
  }
 },
 "nbformat": 4,
 "nbformat_minor": 1
}
